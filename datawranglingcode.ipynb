{
 "cells": [
  {
   "cell_type": "code",
   "execution_count": 2,
   "metadata": {
    "collapsed": false
   },
   "outputs": [],
   "source": [
    "import xml.etree.cElementTree as ET\n",
    "import pprint\n",
    "import csv\n",
    "import re\n",
    "from collections import defaultdict\n",
    "import codecs\n",
    "import cerberus  #conda-forge/cerberus, version 1.0.1\n",
    "import schema    #schema information stored in schema.py file for brevity purposes"
   ]
  },
  {
   "cell_type": "code",
   "execution_count": 3,
   "metadata": {
    "collapsed": true
   },
   "outputs": [],
   "source": [
    "def count_tags(filename):\n",
    "    \n",
    "    #Use this function to count the different tag labels in the entire document\n",
    "    \n",
    "    dictionary = {}\n",
    "    treeiter = ET.iterparse(filename)\n",
    "    for event, child in treeiter:\n",
    "        if child.tag in dictionary:\n",
    "            dictionary[child.tag] += 1\n",
    "        else:\n",
    "            dictionary[child.tag] = 1\n",
    "    print dictionary\n",
    "    \n",
    "    return dictionary"
   ]
  },
  {
   "cell_type": "code",
   "execution_count": 4,
   "metadata": {
    "collapsed": true
   },
   "outputs": [],
   "source": [
    "filename = \"san-jose_california.osm\"  #update filepath as necessary"
   ]
  },
  {
   "cell_type": "code",
   "execution_count": 5,
   "metadata": {
    "collapsed": false
   },
   "outputs": [
    {
     "name": "stdout",
     "output_type": "stream",
     "text": [
      "{'node': 1285095, 'nd': 1500919, 'bounds': 1, 'member': 14259, 'tag': 690862, 'relation': 1345, 'way': 170892, 'osm': 1}\n"
     ]
    },
    {
     "data": {
      "text/plain": [
       "{'bounds': 1,\n",
       " 'member': 14259,\n",
       " 'nd': 1500919,\n",
       " 'node': 1285095,\n",
       " 'osm': 1,\n",
       " 'relation': 1345,\n",
       " 'tag': 690862,\n",
       " 'way': 170892}"
      ]
     },
     "execution_count": 5,
     "metadata": {},
     "output_type": "execute_result"
    }
   ],
   "source": [
    "count_tags(filename)"
   ]
  },
  {
   "cell_type": "code",
   "execution_count": 6,
   "metadata": {
    "collapsed": true
   },
   "outputs": [],
   "source": [
    "def key_type(element, keys):\n",
    "    \n",
    "    # The key_type function and the following process_map functions were used to\n",
    "    # see what kind of formatting the keys (\"k\"-attribute) were in by matching against\n",
    "    # pre-defined regular expressions.\n",
    "    \n",
    "    lower = re.compile(r'^([a-z]|_)*$')\n",
    "    lower_colon = re.compile(r'^([a-z]|_)*:([a-z]|_)*$')\n",
    "    problemchars = re.compile(r'[=\\+/&<>;\\'\"\\?%#$@\\,\\. \\t\\r\\n]')\n",
    "\n",
    "    if element.tag == \"tag\":\n",
    "        \n",
    "        if lower.search(element.attrib['k']) is not None:\n",
    "            keys['lower'] += 1\n",
    "            return keys\n",
    "        if lower_colon.search(element.attrib['k']) is not None:\n",
    "            keys['lower_colon'] += 1\n",
    "            return keys\n",
    "        if problemchars.search(element.attrib['k']) is not None:\n",
    "            keys['problemchars'] += 1\n",
    "            return keys\n",
    "        else:\n",
    "            keys['other'] += 1\n",
    "            return keys\n",
    "        \n",
    "    return keys\n",
    "\n",
    "def process_map(filename):\n",
    "    keys = {\"lower\": 0, \"lower_colon\": 0, \"problemchars\": 0, \"other\": 0}\n",
    "    for _, element in ET.iterparse(filename):\n",
    "        keys = key_type(element, keys)\n",
    "\n",
    "    return keys"
   ]
  },
  {
   "cell_type": "code",
   "execution_count": 7,
   "metadata": {
    "collapsed": false
   },
   "outputs": [
    {
     "data": {
      "text/plain": [
       "{'lower': 376013, 'lower_colon': 291098, 'other': 23750, 'problemchars': 1}"
      ]
     },
     "execution_count": 7,
     "metadata": {},
     "output_type": "execute_result"
    }
   ],
   "source": [
    "keys = process_map(filename)\n",
    "keys"
   ]
  },
  {
   "cell_type": "code",
   "execution_count": 8,
   "metadata": {
    "collapsed": true
   },
   "outputs": [],
   "source": [
    "def audit_street_type(street_types, street_name):\n",
    "    \n",
    "    # This function creates a dictionary matching the last word in a street address to the number of times\n",
    "    # that word occurs if the word is not in our expected list of entries. Then we make a decision\n",
    "    # to convert those words using the update_name function below.\n",
    "    \n",
    "    street_type_re = re.compile(r'\\b\\S+\\.?$', re.IGNORECASE)\n",
    "    expected = [\"Street\", \"Avenue\", \"Boulevard\", \"Drive\", \"Court\", \"Place\", \"Square\", \"Lane\", \"Road\", \n",
    "            \"Trail\", \"Parkway\", \"Commons\", \"Way\", \"Terrace\", \"Circle\", \"Expressway\"]\n",
    "    \n",
    "    m = street_type_re.search(street_name)\n",
    "    if m:\n",
    "        street_type = m.group()\n",
    "        if street_type not in expected:\n",
    "            street_types[street_type].add(street_name)\n",
    "            \n",
    "def is_street_name(elem):\n",
    "    return (elem.attrib['k'] == \"addr:street\")\n",
    "\n",
    "def audit(osmfile):\n",
    "    osm_file = open(osmfile, \"r\")\n",
    "    street_types = defaultdict(set)\n",
    "    for event, elem in ET.iterparse(osm_file, events=(\"start\",)):\n",
    "\n",
    "        if elem.tag == \"node\" or elem.tag == \"way\":\n",
    "            for tag in elem.iter(\"tag\"):\n",
    "                if is_street_name(tag):\n",
    "                    audit_street_type(street_types, tag.attrib['v'])\n",
    "    osm_file.close()\n",
    "    return street_types"
   ]
  },
  {
   "cell_type": "code",
   "execution_count": 9,
   "metadata": {
    "collapsed": false
   },
   "outputs": [],
   "source": [
    "types = audit(filename)"
   ]
  },
  {
   "cell_type": "code",
   "execution_count": 10,
   "metadata": {
    "collapsed": false
   },
   "outputs": [
    {
     "data": {
      "text/plain": [
       "defaultdict(set,\n",
       "            {'0.1': {'Ala 680 PM 0.1'},\n",
       "             '1': {'Prospect Rd #1', 'Stewart Drive Suite #1'},\n",
       "             '114': {'West Evelyn Avenue Suite #114'},\n",
       "             '201': {'Great America Pkwy Ste 201'},\n",
       "             '6': {'Martin Avenue #6'},\n",
       "             '7.1': {'Hwy 17 PM 7.1'},\n",
       "             'A': {'Meridian Ave #A'},\n",
       "             'Alameda': {'The Alameda'},\n",
       "             'Ave': {'1425 E Dunne Ave',\n",
       "              'Blake Ave',\n",
       "              'Cabrillo Ave',\n",
       "              'Cherry Ave',\n",
       "              'E Duane Ave',\n",
       "              'Foxworthy Ave',\n",
       "              'Greenbriar Ave',\n",
       "              'Hollenbeck Ave',\n",
       "              'Meridian Ave',\n",
       "              'N Blaney Ave',\n",
       "              'Saratoga Ave',\n",
       "              'Seaboard Ave',\n",
       "              'The Alameda Ave',\n",
       "              'W Maude Ave',\n",
       "              'W Washington Ave',\n",
       "              'Walsh Ave',\n",
       "              'Westfield Ave'},\n",
       "             'Barcelona': {'Calle de Barcelona'},\n",
       "             'Bascom': {'S. Bascom'},\n",
       "             'Bellomy': {'Bellomy'},\n",
       "             'Blvd': {'Los Gatos Blvd',\n",
       "              'McCarthy Blvd',\n",
       "              'Mission College Blvd',\n",
       "              'N McCarthy Blvd',\n",
       "              'Palm Valley Blvd',\n",
       "              'Santa Teresa Blvd',\n",
       "              'Scott Blvd',\n",
       "              'Stevens Creek Blvd'},\n",
       "             'Boulvevard': {'Los Gatos Boulvevard'},\n",
       "             'CA': {'Zanker Rd., San Jose, CA', 'Zanker Road, San Jose, CA'},\n",
       "             'Cir': {'Celadon Cir'},\n",
       "             'Ct': {'Perivale Ct'},\n",
       "             'Dr': {'Fountain Oaks Dr',\n",
       "              'Linwood Dr',\n",
       "              'Minto Dr',\n",
       "              'Samaritan Dr'},\n",
       "             'East': {'Park Circle East',\n",
       "              'Rio Robles East',\n",
       "              'Vanderbilt Court East'},\n",
       "             'Esquela': {'Camina Esquela'},\n",
       "             'Flores': {'Terreno De Flores'},\n",
       "             'Franklin': {'Franklin'},\n",
       "             'Hamilton': {'Mount Hamilton'},\n",
       "             'Highway': {'Old Santa Cruz Highway'},\n",
       "             'Hill': {'Blossom Hill'},\n",
       "             'Hwy': {'Monterey Hwy'},\n",
       "             'Julian': {'West Julian'},\n",
       "             'Ln': {'Branham Ln', 'Gaundabert Ln'},\n",
       "             'Loop': {'Infinite Loop', 'Village View Loop'},\n",
       "             'Luna': {'Calle de Luna'},\n",
       "             'Madrid': {'Corte de Madrid'},\n",
       "             'Marino': {'Via San Marino'},\n",
       "             'Napoli': {'Via Napoli'},\n",
       "             'Oaks': {'North Fair Oaks'},\n",
       "             'Oro': {'Via del Oro'},\n",
       "             'Palamos': {'Via Palamos'},\n",
       "             'Paviso': {'Via Paviso'},\n",
       "             'Plaza': {'Portal Plaza', 'Rivermark Plaza'},\n",
       "             'Portofino': {'Via Portofino'},\n",
       "             'Presada': {'Paseo Presada'},\n",
       "             'Rd': {'Berryessa Rd',\n",
       "              'Homestead Rd',\n",
       "              'Mt Hamilton Rd',\n",
       "              'Mt. Hamilton Rd',\n",
       "              'San Antonio Valley Rd',\n",
       "              'Saratoga Los Gatos Rd',\n",
       "              'Silver Creek Valley Rd',\n",
       "              'Wolfe Rd'},\n",
       "             'Real': {'E El Camino Real',\n",
       "              'East El Camino Real',\n",
       "              'El Camino Real',\n",
       "              'West El Camino Real'},\n",
       "             'Row': {'Santana Row'},\n",
       "             'Seville': {'Corte de Seville'},\n",
       "             'Sorrento': {'Via Sorrento'},\n",
       "             'Sq': {'Evergreen Village Sq'},\n",
       "             'St': {'Casa Verde St', 'Monroe St', 'N 5th St'},\n",
       "             'Volante': {'Via Volante'},\n",
       "             'Walk': {'Paseo de San Antonio Walk'},\n",
       "             'West': {'Park Circle West', 'Vanderbilt Court West'},\n",
       "             'Winchester': {'Winchester'},\n",
       "             'ave': {'wilcox ave'},\n",
       "             'court': {'Cortona court'},\n",
       "             'robles': {'rio robles'},\n",
       "             'street': {'N 1st street'}})"
      ]
     },
     "execution_count": 10,
     "metadata": {},
     "output_type": "execute_result"
    }
   ],
   "source": [
    "types"
   ]
  },
  {
   "cell_type": "markdown",
   "metadata": {},
   "source": [
    "We'll use the update_name function defined below to update most of these roads (e.g. capitalizing street, converting ave and Ave to Avenue)."
   ]
  },
  {
   "cell_type": "code",
   "execution_count": 11,
   "metadata": {
    "collapsed": false
   },
   "outputs": [],
   "source": [
    "def update_name(name, mapping):\n",
    "    \n",
    "    names = name.split(' ')\n",
    "    if names[-1] in mapping:    #check if the last word has a corresponding update\n",
    "        names[-1] = mapping[names[-1]]\n",
    "        return \" \".join(names)\n",
    "    else:\n",
    "        return name"
   ]
  },
  {
   "cell_type": "code",
   "execution_count": 12,
   "metadata": {
    "collapsed": false
   },
   "outputs": [],
   "source": [
    "mapping = { \"St\": \"Street\",\n",
    "            \"St.\": \"Street\",\n",
    "            \"street\": \"Street\",\n",
    "            \"court\": \"Court\",\n",
    "            \"Rd.\": \"Road\",\n",
    "            \"Ln\": \"Lane\",\n",
    "            \"Sq\": \"Square\",\n",
    "            \"Ave\": \"Avenue\",\n",
    "            \"ave\": \"Avenue\",\n",
    "            \"Blvd\": \"Boulevard\",\n",
    "            \"Boulvevard\": \"Boulevard\",\n",
    "            \"Hwy\": \"Highway\",\n",
    "            \"Cir\": \"Circle\"\n",
    "            }"
   ]
  },
  {
   "cell_type": "code",
   "execution_count": 13,
   "metadata": {
    "collapsed": true
   },
   "outputs": [],
   "source": [
    "def check_k(name):\n",
    "    \n",
    "    # This function converts the key from old_amenity to old:amenity in the 2 entries\n",
    "    # where old_amenity occurs in the San Jose dataset\n",
    "    \n",
    "    if name == \"old_amenity\":\n",
    "        return \"old:amenity\"\n",
    "    else:\n",
    "        return name"
   ]
  },
  {
   "cell_type": "code",
   "execution_count": null,
   "metadata": {
    "collapsed": true
   },
   "outputs": [],
   "source": [
    "# The following code creates 5 .csv output files from the XML file. These files can then be imported\n",
    "# into an SQL database using a program such as sqlite3.\n",
    "\n",
    "OSM_PATH = filename\n",
    "\n",
    "NODES_PATH = \"nodes.csv\"\n",
    "NODE_TAGS_PATH = \"nodes_tags.csv\"\n",
    "WAYS_PATH = \"ways.csv\"\n",
    "WAY_NODES_PATH = \"ways_nodes.csv\"\n",
    "WAY_TAGS_PATH = \"ways_tags.csv\"\n",
    "\n",
    "LOWER_COLON = re.compile(r'^([a-z]|_)+:([a-z]|_)+')\n",
    "PROBLEMCHARS = re.compile(r'[=\\+/&<>;\\'\"\\?%#$@\\,\\. \\t\\r\\n]')\n",
    "\n",
    "SCHEMA = schema.schema\n",
    "\n",
    "# Make sure the fields order in the csvs matches the column order in the sql table schema\n",
    "NODE_FIELDS = ['id', 'lat', 'lon', 'user', 'uid', 'version', 'changeset', 'timestamp']\n",
    "NODE_TAGS_FIELDS = ['id', 'key', 'value', 'type']\n",
    "WAY_FIELDS = ['id', 'user', 'uid', 'version', 'changeset', 'timestamp']\n",
    "WAY_TAGS_FIELDS = ['id', 'key', 'value', 'type']\n",
    "WAY_NODES_FIELDS = ['id', 'node_id', 'position']\n",
    "\n",
    "\n",
    "def shape_element(element, node_attr_fields=NODE_FIELDS, way_attr_fields=WAY_FIELDS,\n",
    "                  problem_chars=PROBLEMCHARS, default_tag_type='regular'):\n",
    "    \"\"\"Clean and shape node or way XML element to Python dict\"\"\"\n",
    "\n",
    "    node_attribs = {}\n",
    "    way_attribs = {}\n",
    "    way_nodes = []\n",
    "    tags = []  # Handle secondary tags the same way for both node and way elements\n",
    "\n",
    "    LOWER_COLON = re.compile(r'^([a-z]|_)+:([a-z]|_)+')\n",
    "    # YOUR CODE HERE\n",
    "    if element.tag == 'node':\n",
    "        for attribute in node_attr_fields:\n",
    "            node_attribs[attribute] = element.attrib[attribute]\n",
    "        for tag in element.iter('tag'):\n",
    "            if problem_chars.search(tag.attrib['k']) is not None:  #if a problem character is detected in key\n",
    "                continue                                            #move on to the next entry\n",
    "            else:\n",
    "                tagDict = {}\n",
    "                tagDict['id'] = element.attrib['id']\n",
    "                if LOWER_COLON.search(tag.attrib['k']) is not None:\n",
    "                    colonLoc = tag.attrib['k'].index(':')\n",
    "                    tagDict['key'] = tag.attrib['k'][colonLoc + 1 :]\n",
    "                    tagDict['type'] = tag.attrib['k'][ : colonLoc]\n",
    "                else:\n",
    "                    tagDict['key'] = tag.attrib['k']\n",
    "                    tagDict['type'] = 'regular'\n",
    "                if is_street_name(tag):    #if tag is a street name, update name if necessary\n",
    "                    tagDict['value'] = update_name(tag.attrib['v'],mapping)\n",
    "                else:\n",
    "                    tagDict['value'] = tag.attrib['v']\n",
    "                tags.append(tagDict)\n",
    "        return {'node': node_attribs, 'node_tags': tags}\n",
    "        \n",
    "    elif element.tag == 'way':\n",
    "        for attribute in way_attr_fields:\n",
    "            way_attribs[attribute] = element.attrib[attribute]\n",
    "            \n",
    "        ndCounter = 0\n",
    "        for node in element.iter('nd'):\n",
    "            ndDict = {}\n",
    "            ndDict['id'] = element.attrib['id']\n",
    "            ndDict['node_id'] = node.attrib['ref']\n",
    "            ndDict['position'] = ndCounter\n",
    "            way_nodes.append(ndDict)\n",
    "            ndCounter += 1\n",
    "        for tag in element.iter('tag'):\n",
    "            if problem_chars.search(tag.attrib['k']) is not None:\n",
    "                continue\n",
    "            else:\n",
    "                tagDict = {}\n",
    "                tagDict['id'] = element.attrib['id']\n",
    "                if LOWER_COLON.search(tag.attrib['k']) is not None:\n",
    "                    colonLoc = tag.attrib['k'].index(':')\n",
    "                    tagDict['key'] = tag.attrib['k'][colonLoc + 1 :]\n",
    "                    tagDict['type'] = tag.attrib['k'][ : colonLoc]\n",
    "                else:\n",
    "                    tagDict['key'] = tag.attrib['k']\n",
    "                    tagDict['type'] = 'regular'\n",
    "                if is_street_name(tag):    #if tag is a street name, update name if necessary\n",
    "                    tagDict['value'] = update_name(tag.attrib['v'],mapping)\n",
    "                else:\n",
    "                    tagDict['value'] = tag.attrib['v']\n",
    "                tags.append(tagDict)\n",
    "\n",
    "        return {'way': way_attribs, 'way_nodes': way_nodes, 'way_tags': tags}\n",
    "\n",
    "\n",
    "# ================================================== #\n",
    "#               Helper Functions                     #\n",
    "# ================================================== #\n",
    "def get_element(osm_file, tags=('node', 'way', 'relation')):\n",
    "    \"\"\"Yield element if it is the right type of tag\"\"\"\n",
    "\n",
    "    context = ET.iterparse(osm_file, events=('start', 'end'))\n",
    "    _, root = next(context)\n",
    "    for event, elem in context:\n",
    "        if event == 'end' and elem.tag in tags:\n",
    "            yield elem\n",
    "            root.clear()\n",
    "\n",
    "\n",
    "def validate_element(element, validator, schema=SCHEMA):\n",
    "    \"\"\"Raise ValidationError if element does not match schema\"\"\"\n",
    "    if validator.validate(element, schema) is not True:\n",
    "        field, errors = next(validator.errors.iteritems())\n",
    "        message_string = \"\\nElement of type '{0}' has the following errors:\\n{1}\"\n",
    "        error_string = pprint.pformat(errors)\n",
    "        \n",
    "        raise Exception(message_string.format(field, error_string))\n",
    "\n",
    "\n",
    "class UnicodeDictWriter(csv.DictWriter, object):\n",
    "    \"\"\"Extend csv.DictWriter to handle Unicode input\"\"\"\n",
    "\n",
    "    def writerow(self, row):\n",
    "        super(UnicodeDictWriter, self).writerow({\n",
    "            k: (v.encode('utf-8') if isinstance(v, unicode) else v) for k, v in row.iteritems()\n",
    "        })\n",
    "\n",
    "    def writerows(self, rows):\n",
    "        for row in rows:\n",
    "            self.writerow(row)\n",
    "\n",
    "\n",
    "# ================================================== #\n",
    "#               Main Function                        #\n",
    "# ================================================== #\n",
    "def process_map(file_in, validate):\n",
    "    \"\"\"Iteratively process each XML element and write to csv(s)\"\"\"\n",
    "\n",
    "    with codecs.open(NODES_PATH, 'w') as nodes_file, \\\n",
    "        codecs.open(NODE_TAGS_PATH, 'w') as nodes_tags_file, \\\n",
    "        codecs.open(WAYS_PATH, 'w') as ways_file, \\\n",
    "        codecs.open(WAY_NODES_PATH, 'w') as way_nodes_file, \\\n",
    "        codecs.open(WAY_TAGS_PATH, 'w') as way_tags_file:\n",
    "\n",
    "        nodes_writer = UnicodeDictWriter(nodes_file, NODE_FIELDS)\n",
    "        node_tags_writer = UnicodeDictWriter(nodes_tags_file, NODE_TAGS_FIELDS)\n",
    "        ways_writer = UnicodeDictWriter(ways_file, WAY_FIELDS)\n",
    "        way_nodes_writer = UnicodeDictWriter(way_nodes_file, WAY_NODES_FIELDS)\n",
    "        way_tags_writer = UnicodeDictWriter(way_tags_file, WAY_TAGS_FIELDS)\n",
    "\n",
    "        nodes_writer.writeheader()\n",
    "        node_tags_writer.writeheader()\n",
    "        ways_writer.writeheader()\n",
    "        way_nodes_writer.writeheader()\n",
    "        way_tags_writer.writeheader()\n",
    "\n",
    "        validator = cerberus.Validator()\n",
    "\n",
    "        for element in get_element(file_in, tags=('node', 'way')):\n",
    "            el = shape_element(element)\n",
    "            if el:\n",
    "                if validate is True:\n",
    "                    validate_element(el, validator)\n",
    "\n",
    "                if element.tag == 'node':\n",
    "                    nodes_writer.writerow(el['node'])\n",
    "                    node_tags_writer.writerows(el['node_tags'])\n",
    "                elif element.tag == 'way':\n",
    "                    ways_writer.writerow(el['way'])\n",
    "                    way_nodes_writer.writerows(el['way_nodes'])\n",
    "                    way_tags_writer.writerows(el['way_tags'])\n"
   ]
  },
  {
   "cell_type": "code",
   "execution_count": null,
   "metadata": {
    "collapsed": true
   },
   "outputs": [],
   "source": [
    "# Note: Validation is ~ 10X slower. For the project consider using a small\n",
    "# sample of the map when validating.  \n",
    "\n",
    "process_map(OSM_PATH, validate=True)"
   ]
  },
  {
   "cell_type": "code",
   "execution_count": null,
   "metadata": {
    "collapsed": true
   },
   "outputs": [],
   "source": []
  }
 ],
 "metadata": {
  "anaconda-cloud": {},
  "kernelspec": {
   "display_name": "Python [conda root]",
   "language": "python",
   "name": "conda-root-py"
  },
  "language_info": {
   "codemirror_mode": {
    "name": "ipython",
    "version": 2
   },
   "file_extension": ".py",
   "mimetype": "text/x-python",
   "name": "python",
   "nbconvert_exporter": "python",
   "pygments_lexer": "ipython2",
   "version": "2.7.12"
  }
 },
 "nbformat": 4,
 "nbformat_minor": 1
}
