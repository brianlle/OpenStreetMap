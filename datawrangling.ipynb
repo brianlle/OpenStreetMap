{
 "cells": [
  {
   "cell_type": "markdown",
   "metadata": {
    "collapsed": true
   },
   "source": [
    "## Data Wrangling Project\n",
    "\n",
    "In this project, I imported map data in XMl format to a SQL database for further investigation. In order to accomplish this, the data needed to be cleaned and standardized before being exported to csv files to be uploaded to the database.\n",
    "\n",
    "I chose to work with a square area encompassing the city of San Jose, CA and some of its surrounding municipalities. San Jose is my hometown and an area near and dear to my heart, so exploring this OpenStreetMap.org map data was of personal interest. The square area dataset I utilized was pre-compiled by mapzen:\n",
    "\n",
    "https://www.openstreetmap.org/relation/112143\n",
    "\n",
    "https://mapzen.com/data/metro-extracts/metro/san-jose_california/\n",
    "\n",
    "A visualization of the area used can be seen in the image below."
   ]
  },
  {
   "cell_type": "code",
   "execution_count": null,
   "metadata": {
    "collapsed": false,
    "scrolled": true
   },
   "outputs": [],
   "source": []
  },
  {
   "cell_type": "markdown",
   "metadata": {},
   "source": [
    "The goal was to clean the data and then import them to a SQL database, enabling functionality with which to extract various statistics about the dataset. The source data were relatively clean, but as is the case with any set of human-compiled data, there were some errors.\n",
    "\n",
    "## Challenges to Data Wrangling\n",
    "\n",
    "\\- There was a fair amount of non-standardization among the street addresses. For example, \"Ave\" and \"Avenue\" were both used, when, ideally, the same notation would be used to describe the same type of street. In order to correct this, I used the following function to convert both common stand-ins (such as \"St\" and \"St.\" for \"Streets\") and more specific ones to this dataset (such as correcting \"Boulvevard\" to \"Boulevard\"):\n",
    "\n",
    "def update_name(name, mapping):\n",
    "    \n",
    "    names = name.split(' ')\n",
    "    if names[-1] in mapping:    #check if the last word has a corresponding update\n",
    "        names[-1] = mapping[names[-1]]\n",
    "        return \" \".join(names)\n",
    "    else:\n",
    "        return name\n",
    "\n",
    "\\- One street address in particular was labeled \"Hwy 17 PM 7.1\" and had associated latitude and longitude coordinates corresponding to a location on Loma Alta Avenue in Los Gatos, CA (https://www.google.com/maps/place/37°13'12.0\"N+121°58'12.0\"W/@37.2212714,-121.978025,15.44z). This is near Highway 17, leading me to believe there is some connection, but as this node is very clearly not on Highway 17, this was likely tagged incorrectly and the problem is easily remedied by removing this tag.\n",
    "\n",
    "\\- There were two tags (one node tag and one way tag) with a \"k\"-attribute labelled \"old_amenity\", whereas the standard used in the rest of the data was \"amenity\". Some \"k\"-attributes were listed as \"abandoned:amenity\" or similar, so we will implement a function to change \"old_amenity\" to \"old:amenity\" in order to preserve the data while correctly returning \"amenity\" as the key when implementing the code to convert to csv for importing to SQL.\n",
    "\n",
    "def check_k(name):\n",
    "    \n",
    "    if name == \"old_amenity\":\n",
    "        return \"old:amenity\"\n",
    "    else:\n",
    "        return name"
   ]
  },
  {
   "cell_type": "markdown",
   "metadata": {},
   "source": [
    "## Data Exploration\n",
    "\n",
    "Filesizes:\n",
    "\n",
    "raw data (san-jose.osm): 271 MB\n",
    "\n",
    "database (san-jose.db): 157 MB\n",
    "\n",
    "\n",
    "Once the data were uploaded to a SQL database, investigation of the dataset could be achieved through various queries.\n",
    "\n",
    "\n",
    "### Query for finding number of nodes\n",
    "\n",
    "SELECT COUNT(\\*) FROM nodes;\n",
    "\n",
    "1285096\n",
    "\n",
    "\n",
    "### Number of ways\n",
    "\n",
    "SELECT COUNT(\\*) FROM ways;\n",
    "\n",
    "170893\n",
    "\n",
    "### Unique users listed among nodes and ways entries\n",
    "\n",
    "SELECT COUNT(DISTINCT query.uid)          \n",
    "    FROM (SELECT uid FROM nodes UNION ALL SELECT uid FROM ways) as query;\n",
    "\n",
    "1246\n",
    "\n",
    "This results in an average of approximately 1168 entries per user! What a helpful community.\n",
    "\n",
    "### Keys in node_tags\n",
    "\n",
    "We can also investigate what the most populous types of node_tags are."
   ]
  },
  {
   "cell_type": "raw",
   "metadata": {},
   "source": [
    "SELECT key, COUNT(\\*) FROM nodes_tags\n",
    "    GROUP BY key\n",
    "    ORDER BY COUNT(\\*)\n",
    "    DESC LIMIT 10\n",
    "    ;"
   ]
  },
  {
   "cell_type": "markdown",
   "metadata": {},
   "source": [
    "* highway, 12212\n",
    "* housenumber, 6746\n",
    "* street, 6523\n",
    "* name, 5166\n",
    "* amenity, 3749\n",
    "* city, 3309\n",
    "* postcode, 2814\n",
    "* natural, 2156\n",
    "* crossing, 2052\n",
    "* source, 1960\n",
    "\n",
    "### Wikipedia keys!\n",
    "\n",
    "One key of particular interest to me is the \"wikipedia\" key; how many entries from nodes_tags and ways_tags correspond to this key?\n",
    "\n",
    "SELECT COUNT(query.key)          \n",
    "FROM (SELECT key FROM nodes_tags UNION ALL SELECT key FROM ways_tags) as query\n",
    "WHERE query.key=\"wikipedia\";\n",
    "\n",
    "137\n",
    "\n",
    "I wondered what Wikipedia articles were being linked to so I examined 10 \"wikipedia\" tags from each nodes_tags and ways_tags.\n",
    "\n",
    "SELECT value FROM nodes_tags WHERE key=\"wikipedia\" LIMIT 10;\n",
    "* \"en:Santa Clara, California\"\n",
    "* \"en:Berryessa, San Jose, California\"\n",
    "* \"en:Willow Glen, San Jose, California\"\n",
    "* \"en:Morgan Hill, California\"\n",
    "* \"en:Coyote, California\"\n",
    "* \"en:Sunnyvale, California\"\n",
    "* \"en:Buena Vista, Santa Clara County, California\"\n",
    "* \"en:Alum Rock, California\"\n",
    "* \"en:Moffett Park (VTA)\"\n",
    "* \"en:Borregas (VTA)\"\n",
    "\n",
    "Node tags with the \"wikipedia\" key link predominantly to Wikipedia articles on cities or on train stations (VTA is a type of light-rail train that runs in this area).\n",
    "\n",
    "SELECT value FROM ways_tags WHERE key=\"wikipedia\" LIMIT 10;\n",
    "* \"en:San Jose Convention Center\"\n",
    "* \"en:SAP Center at San Jose\"\n",
    "* \"en:Bellarmine College Preparatory\"\n",
    "* \"en:Plaza de C├⌐sar Ch├ívez\"\n",
    "* \"en:Dr. Martin Luther King, Jr. Library\"\n",
    "* \"en:San Jose High School\"\n",
    "* \"en:City National Civic\"\n",
    "* \"en:San Jose Municipal Stadium\"\n",
    "* \"en:Shark Ice\"\n",
    "* \"en:History Park at Kelley Park\"\n",
    "\n",
    "Way tags with the \"wikipedia\" key link to locations of public interest, such as the SAP Center (go Sharks!) and local high schools.\n",
    "\n",
    "### What kind of amenities are in the area?"
   ]
  },
  {
   "cell_type": "raw",
   "metadata": {},
   "source": [
    "SELECT value, COUNT(*)\n",
    "    FROM nodes_tags\n",
    "    WHERE key='amenity'\n",
    "    GROUP BY value\n",
    "    ORDER BY COUNT(*) DESC\n",
    "    LIMIT 10\n",
    "    ;"
   ]
  },
  {
   "cell_type": "markdown",
   "metadata": {},
   "source": [
    "* restaurant, 766\n",
    "* fast_food, 369\n",
    "* cafe, 224\n",
    "* place_of_worship, 186\n",
    "* bicycle_parking, 175\n",
    "* bench, 174\n",
    "* school, 151\n",
    "* toilets, 148\n",
    "* fuel, 123\n",
    "* bank, 116\n",
    "\n",
    "Let's take a closer look at that last entry; what bank has the most branches in our area encompassing San Jose?"
   ]
  },
  {
   "cell_type": "raw",
   "metadata": {},
   "source": [
    "SELECT nodes_tags.value, COUNT(\\*) as num FROM nodes_tags \n",
    "    JOIN (SELECT DISTINCT(id) FROM nodes_tags WHERE value=\"bank\") as query\n",
    "    ON nodes_tags.id=query.id\n",
    "    WHERE nodes_tags.key=\"name\"\n",
    "    GROUP BY nodes_tags.value\n",
    "    ORDER BY num DESC\n",
    "    LIMIT 10\n",
    "    ;"
   ]
  },
  {
   "cell_type": "markdown",
   "metadata": {},
   "source": [
    "* Chase, 17\n",
    "* Bank of America, 15\n",
    "* Wells Fargo, 14\n",
    "* Bank of the West, 6\n",
    "* US Bank, 6\n",
    "* Citibank, 5\n",
    "* Provident Credit Union, 4\n",
    "* Star One Credit Union, 3\n",
    "* City Bank, 2\n",
    "* Comerica Bank, 2\n",
    "\n",
    "Chase, BoA, and Wells Fargo customers appear to be in good hands in this area! Or, at the very least, a large number of hands. Similarly, we can examine the most popular coffee chain in the area."
   ]
  },
  {
   "cell_type": "raw",
   "metadata": {
    "collapsed": true
   },
   "source": [
    "SELECT nodes_tags.value, COUNT(\\*) as num FROM nodes_tags \n",
    "    JOIN (SELECT DISTINCT(id) FROM nodes_tags WHERE value=\"cafe\") as query\n",
    "    ON nodes_tags.id=query.id\n",
    "    WHERE nodes_tags.key=\"name\"\n",
    "    GROUP BY nodes_tags.value\n",
    "    ORDER BY num DESC\n",
    "    LIMIT 10\n",
    "    ;"
   ]
  },
  {
   "cell_type": "markdown",
   "metadata": {},
   "source": [
    "* Starbucks, 71\n",
    "* Subway, 6\n",
    "* Peet's Coffee & Tea, 4\n",
    "* Bagel Street Cafe, 3\n",
    "* Jamba Juice, 3\n",
    "* Peet's Coffee, 3\n",
    "* Philz Coffee, 3\n",
    "* Starbucks Coffee, 3\n",
    "* Peets Coffee & Tea, 2\n",
    "* 88 Keys Cafe, 1"
   ]
  },
  {
   "cell_type": "markdown",
   "metadata": {},
   "source": [
    "Interestingly, if we look for all Subway restaurants\n",
    "\n",
    "SELECT COUNT(\\*) FROM nodes_tags WHERE value=\"Subway\";\n",
    "\n",
    "we find that there are 50 locations and not all of them are tagged as cafes."
   ]
  },
  {
   "cell_type": "markdown",
   "metadata": {},
   "source": [
    "## Suggestions for improvement\n",
    "\n",
    "This dataset provides a good look into the San Jose metropolitan area. However, the dataset itself is very clearly incomplete, as evidenced by the very last exploratory look where only 6 of 50 Subway locations are tagged as cafes. Improved and consistent tagging of locations such as these would allow for more accurate exploration of the data; however, implementing this on a programmatic basis would be difficult as individual exceptions would likely have to be programmed for each case such as creating a corresponding \"cafe\" tag for all Subway locations (or, alternatively, removing the tag). While that would be simple enouogh for Subway, individual chains (cafe, fast food, restaurant, bank, or otherwise) would need their own self-consistency checks."
   ]
  },
  {
   "cell_type": "code",
   "execution_count": null,
   "metadata": {
    "collapsed": true
   },
   "outputs": [],
   "source": []
  }
 ],
 "metadata": {
  "anaconda-cloud": {},
  "kernelspec": {
   "display_name": "Python [default]",
   "language": "python",
   "name": "python2"
  },
  "language_info": {
   "codemirror_mode": {
    "name": "ipython",
    "version": 2
   },
   "file_extension": ".py",
   "mimetype": "text/x-python",
   "name": "python",
   "nbconvert_exporter": "python",
   "pygments_lexer": "ipython2",
   "version": "2.7.12"
  }
 },
 "nbformat": 4,
 "nbformat_minor": 1
}
